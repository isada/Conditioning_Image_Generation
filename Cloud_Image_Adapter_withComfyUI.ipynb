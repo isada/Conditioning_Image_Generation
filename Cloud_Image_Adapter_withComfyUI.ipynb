{
  "cells": [
    {
      "cell_type": "code",
      "execution_count": null,
      "metadata": {
        "id": "bbbbbbbbbb",
        "cellView": "form"
      },
      "outputs": [],
      "source": [
        "\"\"\"\n",
        "This code orchestrates the environment setup for a ComfyUI project,\n",
        "allowing users to customize preferences, install dependencies, and integrate with Google Drive,\n",
        "while also cloning, updating, and configuring necessary components\n",
        "like ComfyUI-Manager, ComfyUI_IPAdapter_plus, and Control Net preprocessors.\n",
        "\"\"\"\n",
        "#@title Environment Setup: execution\n",
        "%cd /content\n",
        "from pathlib import Path\n",
        "\n",
        "# -- environment variables based on user input\n",
        "OPTIONS = {}\n",
        "\n",
        "UPDATE_COMFY_UI = True  #@param {type:\"boolean\"}\n",
        "INSTALL_COMFYUI_MANAGER = True #@param {type:\"boolean\"}\n",
        "INSTALL_COMFYUI_IPADAPTER_PLUS = True #@param {type:\"boolean\"}\n",
        "INSTALL_CONTROLNET_PREPROCESSORS = True #@param {type:\"boolean\"}\n",
        "#@markdown <br>\n",
        "#@markdown NOTE: flag this below if you want to interact with the directories on google drive (useful if you want to avoid writing shell commands and simply drag and drop the downloaded models into the relevant folder)\n",
        "USE_GOOGLE_DRIVE = False  #@param {type:\"boolean\"}\n",
        "\n",
        "OPTIONS['USE_GOOGLE_DRIVE'] = USE_GOOGLE_DRIVE\n",
        "OPTIONS['UPDATE_COMFY_UI'] = UPDATE_COMFY_UI\n",
        "OPTIONS['INSTALL_COMFYUI_MANAGER'] = INSTALL_COMFYUI_MANAGER\n",
        "OPTIONS['INSTALL_COMFYUI_IPADAPTER_PLUS'] = INSTALL_COMFYUI_IPADAPTER_PLUS\n",
        "OPTIONS['INSTALL_CONTROLNET_PREPROCESSORS'] = INSTALL_CONTROLNET_PREPROCESSORS\n",
        "\n",
        "# -- defining directories\n",
        "current_dir = !pwd\n",
        "IMAGE_WORKSPACE = f\"{current_dir[0]}/ImageProject\" #area where I store the project\n",
        "COMFY_WORKSPACE = f\"{current_dir[0]}/ImageProject/ComfyUI\" #sub folder with ComfyUI\n",
        "\n",
        "# -- mounting google drive if the option is selected\n",
        "if OPTIONS['USE_GOOGLE_DRIVE']:\n",
        "    !echo \"Mounting Google Drive...\"\n",
        "    %cd /\n",
        "\n",
        "    from google.colab import drive\n",
        "    drive.mount('/content/drive')\n",
        "\n",
        "    IMAGE_WORKSPACE = \"/content/drive/MyDrive/ImageProject\"\n",
        "    COMFY_WORKSPACE = \"/content/drive/MyDrive/ImageProject/ComfyUI\"\n",
        "    %cd /content/drive/MyDrive\n",
        "\n",
        "# -- creating the workspace directory and cloning ComfyUI repo\n",
        "import os\n",
        "!echo \"Creating workspace if not already there\"\n",
        "os.makedirs(IMAGE_WORKSPACE, exist_ok=True)\n",
        "%cd $IMAGE_WORKSPACE\n",
        "\n",
        "![ ! -d $COMFY_WORKSPACE ] && echo -= Initial setup ComfyUI =- && git clone https://github.com/comfyanonymous/ComfyUI\n",
        "%cd $COMFY_WORKSPACE\n",
        "\n",
        "# -- updating if needed\n",
        "if OPTIONS['UPDATE_COMFY_UI']:\n",
        "  !echo -= Updating ComfyUI =-\n",
        "  !git pull\n",
        "\n",
        "# -- installing dependencies\n",
        "!echo -= Install dependencies =-\n",
        "!pip install xformers!=0.0.18 -r requirements.txt --extra-index-url https://download.pytorch.org/whl/cu121 --extra-index-url https://download.pytorch.org/whl/cu118 --extra-index-url https://download.pytorch.org/whl/cu117\n",
        "\n",
        "# -- installing ComfyUI-Manager\n",
        "%cd $COMFY_WORKSPACE\n",
        "if OPTIONS['INSTALL_COMFYUI_MANAGER']:\n",
        "  %cd custom_nodes\n",
        "  ![ ! -d ComfyUI-Manager ] && echo -= Initial setup ComfyUI-Manager =- && git clone https://github.com/ltdrdata/ComfyUI-Manager\n",
        "  %cd ComfyUI-Manager\n",
        "  !git pull\n",
        "\n",
        "%cd $COMFY_WORKSPACE\n",
        "# -- installing ComfyUI_IPAdapter_plus (ComfyUI reference implementation for IPAdapter models)\n",
        "# documentation for this custom node: https://github.com/cubiq/ComfyUI_IPAdapter_plus\n",
        "\n",
        "if OPTIONS['INSTALL_COMFYUI_IPADAPTER_PLUS']:\n",
        "  %cd custom_nodes\n",
        "  ![ ! -d ComfyUI_IPAdapter_plus ] && echo -= Initial setup ComfyUI_IPAdapter_plus =- && git clone https://github.com/cubiq/ComfyUI_IPAdapter_plus\n",
        "  %cd ComfyUI_IPAdapter_plus\n",
        "  !git pull\n",
        "  #create folder for ipadapter models where the models will be saved later\n",
        "  %mkdir -p $COMFY_WORKSPACE/models/ipadapter\n",
        "\n",
        "\n",
        "%cd $COMFY_WORKSPACE\n",
        "\n",
        "# -- installing Control Net preprocessors\n",
        "\n",
        "if OPTIONS['INSTALL_CONTROLNET_PREPROCESSORS']:\n",
        "  %cd custom_nodes\n",
        "  ![ ! -d comfyUI_controlnet_aux ] && echo -= Initial setup ComfyUI_controlnet_aux =- && git clone https://github.com/Fannovel16/comfyui_controlnet_aux\n",
        "  %cd comfyui_controlnet_aux\n",
        "  !git pull\n",
        "\n",
        "\n",
        "%cd $COMFY_WORKSPACE"
      ]
    },
    {
      "cell_type": "code",
      "source": [
        "#@title Environment configuration: execution\n",
        "\n",
        "OPTIONS = {}\n",
        "\n",
        "#@markdown **Models**\n",
        "# -- STABLE DIFFUSION: First you need the checkpoint for the stable diffusion model\n",
        "STABLE_DIFFUSION_URL = \"https://huggingface.co/runwayml/stable-diffusion-v1-5/resolve/main/v1-5-pruned-emaonly.ckpt\"\n",
        "#STABLE_DIFFUSION_URL = \"https://civitai.com/api/download/models/128713?type=Model&format=SafeTensor&size=pruned&fp=fp16\" #@param {type:\"string\"}\n",
        "OPTIONS['STABLE_DIFFUSION_MODEL'] = STABLE_DIFFUSION_URL\n",
        "if STABLE_DIFFUSION_URL:\n",
        "  !wget -c \"{STABLE_DIFFUSION_URL}\" --content-disposition -P {COMFY_WORKSPACE}/models/checkpoints/\n",
        "\n",
        "\n",
        "#@markdown **VAE**\n",
        "# -- VAE (Variational autoencoders)\n",
        "VAE_URL = \"https://huggingface.co/stabilityai/sd-vae-ft-mse-original/resolve/main/vae-ft-mse-840000-ema-pruned.safetensors\" #@param {type:\"string\"}\n",
        "OPTIONS['VAE_MODEL'] = VAE_URL\n",
        "if VAE_URL:\n",
        "  !wget -c \"{VAE_URL}\" -P {COMFY_WORKSPACE}/models/vae/\n",
        "\n",
        "\n",
        "#@markdown **CONTROLNETS**\n",
        "# -- CONTROLNET: then you need the checkpoints for the CONTROLNET\n",
        "# - controlnet has models targeted toward specific tasks and I want specifically the open pose one\n",
        "download_all_control_nets = True  #@param {type:\"boolean\"}\n",
        "OPTIONS['SD_1_5_CONTROLNETS'] = download_all_control_nets\n",
        "if OPTIONS['SD_1_5_CONTROLNETS']:\n",
        "    !wget -c https://huggingface.co/comfyanonymous/ControlNet-v1-1_fp16_safetensors/resolve/main/control_v11e_sd15_shuffle_fp16.safetensors -P {COMFY_WORKSPACE}/models/controlnet/\n",
        "    !wget -c https://huggingface.co/comfyanonymous/ControlNet-v1-1_fp16_safetensors/resolve/main/control_v11p_sd15_canny_fp16.safetensors -P {COMFY_WORKSPACE}/models/controlnet/\n",
        "    !wget -c https://huggingface.co/comfyanonymous/ControlNet-v1-1_fp16_safetensors/resolve/main/control_v11f1p_sd15_depth_fp16.safetensors -P {COMFY_WORKSPACE}/models/controlnet/\n",
        "    !wget -c https://huggingface.co/comfyanonymous/ControlNet-v1-1_fp16_safetensors/resolve/main/control_v11p_sd15_inpaint_fp16.safetensors -P {COMFY_WORKSPACE}/models/controlnet/\n",
        "    !wget -c https://huggingface.co/comfyanonymous/ControlNet-v1-1_fp16_safetensors/resolve/main/control_v11p_sd15_lineart_fp16.safetensors -P {COMFY_WORKSPACE}/models/controlnet/\n",
        "    !wget -c https://huggingface.co/comfyanonymous/ControlNet-v1-1_fp16_safetensors/resolve/main/control_v11p_sd15_mlsd_fp16.safetensors -P {COMFY_WORKSPACE}/models/controlnet/\n",
        "    !wget -c https://huggingface.co/comfyanonymous/ControlNet-v1-1_fp16_safetensors/resolve/main/control_v11p_sd15_normalbae_fp16.safetensors -P {COMFY_WORKSPACE}/models/controlnet/\n",
        "    !wget -c https://huggingface.co/comfyanonymous/ControlNet-v1-1_fp16_safetensors/resolve/main/control_v11p_sd15_openpose_fp16.safetensors -P {COMFY_WORKSPACE}/models/controlnet/\n",
        "    !wget -c https://huggingface.co/comfyanonymous/ControlNet-v1-1_fp16_safetensors/resolve/main/control_v11p_sd15_scribble_fp16.safetensors -P {COMFY_WORKSPACE}/models/controlnet/\n",
        "    !wget -c https://huggingface.co/comfyanonymous/ControlNet-v1-1_fp16_safetensors/resolve/main/control_v11p_sd15_seg_fp16.safetensors -P {COMFY_WORKSPACE}/models/controlnet/\n",
        "    !wget -c https://huggingface.co/comfyanonymous/ControlNet-v1-1_fp16_safetensors/resolve/main/control_v11p_sd15_softedge_fp16.safetensors -P {COMFY_WORKSPACE}/models/controlnet/\n",
        "    !wget -c https://huggingface.co/comfyanonymous/ControlNet-v1-1_fp16_safetensors/resolve/main/control_v11p_sd15s2_lineart_anime_fp16.safetensors -P {COMFY_WORKSPACE}/models/controlnet/\n",
        "    !wget -c https://huggingface.co/comfyanonymous/ControlNet-v1-1_fp16_safetensors/resolve/main/control_v11u_sd15_tile_fp16.safetensors -P {COMFY_WORKSPACE}/models/controlnet/\n",
        "\n",
        "\n",
        "#@markdown **CLIP VISION**\n",
        "# -- CLIP VISION:\n",
        "# clip visions are the image encoders that are needed to work with the IP Adapter models\n",
        "CLIPVISION_URL = \"https://huggingface.co/h94/IP-Adapter/resolve/main/models/image_encoder/model.safetensors\" #@param {type:\"string\"}\n",
        "OPTIONS['CLIPVISION_MODEL'] = CLIPVISION_URL\n",
        "\n",
        "if CLIPVISION_URL:\n",
        "    !wget -c \"{CLIPVISION_URL}\" -P {COMFY_WORKSPACE}/models/clip_vision/\n",
        "\n",
        "\n",
        "\n",
        "# all possible IP Adapter ControlNet files here https://huggingface.co/h94/IP-Adapter/tree/main/models\n",
        "#@markdown **IP ADAPTER (face)**\n",
        "IPADAPTER_FACE_URL = \"https://huggingface.co/h94/IP-Adapter/resolve/main/models/ip-adapter-plus-face_sd15.safetensors\" #@param {type:\"string\"}\n",
        "OPTIONS['IPADAPTER_FACE_MODEL']= IPADAPTER_FACE_URL\n",
        "if IPADAPTER_FACE_URL:\n",
        "    !wget -c \"{IPADAPTER_FACE_URL}\" -P {COMFY_WORKSPACE}/models/ipadapter/\n",
        "\n",
        "#@markdown **IP ADAPTER (style)**\n",
        "IPADAPTER_STYLE_URL = \"https://huggingface.co/h94/IP-Adapter/resolve/main/models/ip-adapter_sd15.safetensors\" #@param {type:\"string\"}\n",
        "OPTIONS['IPADAPTER_STYLE_MODEL']= IPADAPTER_STYLE_URL\n",
        "\n",
        "if IPADAPTER_STYLE_URL:\n",
        "    !wget -c \"{IPADAPTER_STYLE_URL}\" -P {COMFY_WORKSPACE}/models/ipadapter/\n"
      ],
      "metadata": {
        "id": "on2s4d42jrnq",
        "cellView": "form"
      },
      "execution_count": null,
      "outputs": []
    },
    {
      "cell_type": "markdown",
      "source": [
        "If you are struggling to understand the directory structure or want to check if a model has been actually installed and has been correctly placed, use the code below for displaying the content of the directories."
      ],
      "metadata": {
        "id": "PtivZXGFzN0B"
      }
    },
    {
      "cell_type": "code",
      "source": [
        "#for example (see that by default the ComfyUI repo contains instructions about where to place the elements)\n",
        "%ls /content/ImageProject/ComfyUI/models/clip_vision"
      ],
      "metadata": {
        "colab": {
          "base_uri": "https://localhost:8080/"
        },
        "id": "eskZDE-Wbci8",
        "outputId": "d468cbbc-6104-4671-92eb-9468a0d3d1a9"
      },
      "execution_count": 39,
      "outputs": [
        {
          "output_type": "stream",
          "name": "stdout",
          "text": [
            "model.safetensors  put_clip_vision_models_here\n"
          ]
        }
      ]
    },
    {
      "cell_type": "markdown",
      "source": [
        "### Download custom resources\n",
        "\n",
        "These resources are the ones that are needed to run my example workflow but below you have a more user friendly way to personalize the models that are added to your ComfyUI configuration.\n",
        "\n",
        "Feel free to customize it to accomodate your own personalization need.\n",
        "\n",
        "\n",
        "Note: depending on the resource you want to download select the proper folder in which you will save it. For example:\n",
        "* if you are downloading another checkpoint for stable diffusion then save it in checkpoints\n",
        "* if you are downloading another controlnet model then save it in controlnet\n",
        "* if it's an IPAdapter model then it goes directly into that folder but make sure you have it installed (ie. have executed the first node with the flag checked for comfyui ipadapter plus)\n",
        "\n"
      ],
      "metadata": {
        "id": "wCc6m-ZSgjDV"
      }
    },
    {
      "cell_type": "code",
      "source": [
        "#@title (Optional) Add you own resource\n",
        "#@markdown Specify file name and extension for the resource:\n",
        "resource_url = \"https://huggingface.co/TencentARC/T2I-Adapter/resolve/main/models/coadapter-style-sd15v1.pth\" #@param {type:\"string\"}\n",
        "output_path = \"./models/ipadapter/\" #@param [\"./models/checkpoints/\",\"./models/clip_vision/\",\"./models/vae/\",\"./models/loras/\",\"./models/controlnet/\",\"./models/style_models/\", \"./models/ipadapter/\"]\n",
        "\n",
        "# considering the ComfyUI folder as starting point\n",
        "if resource_url and output_path:\n",
        "    !wget -c \"{resource_url}\" -P \"{output_path}\""
      ],
      "metadata": {
        "id": "Lx6RB2_2hDrK",
        "cellView": "form"
      },
      "execution_count": null,
      "outputs": []
    },
    {
      "cell_type": "markdown",
      "metadata": {
        "id": "kkkkkkkkkkkkkkk"
      },
      "source": [
        "## Run ComfyUI with cloudflared\n",
        "\n",
        "Once everything is setup, here 'cloudflared' gets downloaded and installed. This is a tool provided by Cloudflare, to create a secure tunnel for the ComfyUI server.\n",
        "\n",
        "The code launches the server using Python, prints the URL for accessing ComfyUI and runs the server in the background for a more smooth user experience.\n",
        "\n",
        "\n"
      ]
    },
    {
      "cell_type": "code",
      "source": [
        "#these are all modules that were missing so were pip installed on the way, if you are experiencing a \"no xyz found\" error try pip installing it first (and then relaunch this cloudflared section)\n",
        "#!pip install insightface\n",
        "#!pip install onnxruntime\n",
        "#!pip install yacs"
      ],
      "metadata": {
        "id": "Gf_SmAfp42FP"
      },
      "execution_count": null,
      "outputs": []
    },
    {
      "cell_type": "code",
      "execution_count": null,
      "metadata": {
        "id": "jjjjjjjjjjjjjj",
        "colab": {
          "base_uri": "https://localhost:8080/"
        },
        "outputId": "a0d20210-4cb9-40d0-bb6d-ea6d2c0d4bec",
        "cellView": "form"
      },
      "outputs": [
        {
          "output_type": "stream",
          "name": "stdout",
          "text": [
            "\n",
            "Stopped server\n",
            "Exception ignored in atexit callback: <bound method TMonitor.exit of <TMonitor(Thread-4, started daemon 132456751208000)>>\n",
            "Traceback (most recent call last):\n",
            "  File \"/usr/local/lib/python3.10/dist-packages/tqdm/_monitor.py\", line 41, in exit\n",
            "    def exit(self):\n",
            "KeyboardInterrupt: \n"
          ]
        }
      ],
      "source": [
        "#@title Launching ComfyUI\n",
        "#@markdown Run the code then copy paste the URL for ComfyUI in the browser\n",
        "!wget https://github.com/cloudflare/cloudflared/releases/latest/download/cloudflared-linux-amd64.deb\n",
        "!dpkg -i cloudflared-linux-amd64.deb\n",
        "\n",
        "import subprocess\n",
        "import threading\n",
        "import time\n",
        "import socket\n",
        "import urllib.request\n",
        "\n",
        "def iframe_thread(port):\n",
        "  while True:\n",
        "      time.sleep(0.5)\n",
        "      sock = socket.socket(socket.AF_INET, socket.SOCK_STREAM)\n",
        "      result = sock.connect_ex(('127.0.0.1', port))\n",
        "      if result == 0:\n",
        "        break\n",
        "      sock.close()\n",
        "  print(\"\\nComfyUI finished loading, trying to launch cloudflared (if it gets stuck here cloudflared is having issues)\\n\")\n",
        "\n",
        "  p = subprocess.Popen([\"cloudflared\", \"tunnel\", \"--url\", \"http://127.0.0.1:{}\".format(port)], stdout=subprocess.PIPE, stderr=subprocess.PIPE)\n",
        "  for line in p.stderr:\n",
        "    l = line.decode()\n",
        "    if \"trycloudflare.com \" in l:\n",
        "      print(\"This is the URL to access ComfyUI:\", l[l.find(\"http\"):], end='')\n",
        "    #print(l, end='')\n",
        "\n",
        "\n",
        "threading.Thread(target=iframe_thread, daemon=True, args=(8188,)).start()\n",
        "\n",
        "!python main.py --dont-print-server"
      ]
    },
    {
      "cell_type": "markdown",
      "source": [
        "Now that you have the environment running, open the server and enjoy creating workflows. You can find my workflow here but there are also other examples of workflows here, simply download the json and load it through the comfyui manager load option.\n"
      ],
      "metadata": {
        "id": "VXzGyI5Qvz3d"
      }
    }
  ],
  "metadata": {
    "accelerator": "GPU",
    "colab": {
      "provenance": []
    },
    "gpuClass": "standard",
    "kernelspec": {
      "display_name": "Python 3",
      "name": "python3"
    },
    "language_info": {
      "name": "python"
    }
  },
  "nbformat": 4,
  "nbformat_minor": 0
}